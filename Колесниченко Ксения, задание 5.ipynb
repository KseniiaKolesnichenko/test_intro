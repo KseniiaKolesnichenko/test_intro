{
 "cells": [
  {
   "cell_type": "markdown",
   "metadata": {},
   "source": [
    "Исследование выполнила Колесниченко Ксения, \n",
    "\n",
    "студентка направления Data Science 1 курса магистратуры НИТУ МИСиС"
   ]
  },
  {
   "cell_type": "markdown",
   "metadata": {},
   "source": [
    "Импортируем необходимые библиотеки"
   ]
  },
  {
   "cell_type": "code",
   "execution_count": 1,
   "metadata": {},
   "outputs": [],
   "source": [
    "import pandas as pd\n",
    "import seaborn as sns\n",
    "import matplotlib.pyplot as plt\n",
    "import numpy as np \n",
    "\n",
    "\n",
    "from sklearn.preprocessing import PolynomialFeatures\n",
    "from sklearn.model_selection import train_test_split\n",
    "from sklearn import ensemble\n",
    "from sklearn import tree\n",
    "from sklearn.model_selection import GridSearchCV\n",
    "from sklearn.metrics import accuracy_score, precision_score, recall_score\n",
    "from sklearn.ensemble import RandomForestClassifier\n",
    "\n",
    "from sklearn.linear_model import LogisticRegression\n"
   ]
  },
  {
   "cell_type": "markdown",
   "metadata": {},
   "source": [
    "## Данные и их характеристики. "
   ]
  },
  {
   "cell_type": "code",
   "execution_count": 2,
   "metadata": {},
   "outputs": [],
   "source": [
    "# Исследование предоставленного набора данных"
   ]
  },
  {
   "cell_type": "code",
   "execution_count": 3,
   "metadata": {},
   "outputs": [
    {
     "data": {
      "text/html": [
       "<div>\n",
       "<style scoped>\n",
       "    .dataframe tbody tr th:only-of-type {\n",
       "        vertical-align: middle;\n",
       "    }\n",
       "\n",
       "    .dataframe tbody tr th {\n",
       "        vertical-align: top;\n",
       "    }\n",
       "\n",
       "    .dataframe thead th {\n",
       "        text-align: right;\n",
       "    }\n",
       "</style>\n",
       "<table border=\"1\" class=\"dataframe\">\n",
       "  <thead>\n",
       "    <tr style=\"text-align: right;\">\n",
       "      <th></th>\n",
       "      <th>a</th>\n",
       "      <th>b</th>\n",
       "      <th>c</th>\n",
       "      <th>d</th>\n",
       "      <th>class</th>\n",
       "    </tr>\n",
       "  </thead>\n",
       "  <tbody>\n",
       "    <tr>\n",
       "      <th>0</th>\n",
       "      <td>-0.233408</td>\n",
       "      <td>-0.845698</td>\n",
       "      <td>0.365256</td>\n",
       "      <td>0.311292</td>\n",
       "      <td>1.0</td>\n",
       "    </tr>\n",
       "    <tr>\n",
       "      <th>1</th>\n",
       "      <td>0.073524</td>\n",
       "      <td>-0.747284</td>\n",
       "      <td>0.586381</td>\n",
       "      <td>0.303840</td>\n",
       "      <td>1.0</td>\n",
       "    </tr>\n",
       "    <tr>\n",
       "      <th>2</th>\n",
       "      <td>0.105561</td>\n",
       "      <td>-0.749805</td>\n",
       "      <td>0.149815</td>\n",
       "      <td>0.635771</td>\n",
       "      <td>1.0</td>\n",
       "    </tr>\n",
       "    <tr>\n",
       "      <th>3</th>\n",
       "      <td>-0.642419</td>\n",
       "      <td>-0.342424</td>\n",
       "      <td>-0.608454</td>\n",
       "      <td>0.229135</td>\n",
       "      <td>0.0</td>\n",
       "    </tr>\n",
       "    <tr>\n",
       "      <th>4</th>\n",
       "      <td>0.296581</td>\n",
       "      <td>-0.656553</td>\n",
       "      <td>0.022429</td>\n",
       "      <td>0.639708</td>\n",
       "      <td>0.0</td>\n",
       "    </tr>\n",
       "  </tbody>\n",
       "</table>\n",
       "</div>"
      ],
      "text/plain": [
       "          a         b         c         d  class\n",
       "0 -0.233408 -0.845698  0.365256  0.311292    1.0\n",
       "1  0.073524 -0.747284  0.586381  0.303840    1.0\n",
       "2  0.105561 -0.749805  0.149815  0.635771    1.0\n",
       "3 -0.642419 -0.342424 -0.608454  0.229135    0.0\n",
       "4  0.296581 -0.656553  0.022429  0.639708    0.0"
      ]
     },
     "execution_count": 3,
     "metadata": {},
     "output_type": "execute_result"
    }
   ],
   "source": [
    "data=pd.read_csv('xtask.csv')\n",
    "data.head()"
   ]
  },
  {
   "cell_type": "code",
   "execution_count": 4,
   "metadata": {},
   "outputs": [
    {
     "name": "stdout",
     "output_type": "stream",
     "text": [
      "<class 'pandas.core.frame.DataFrame'>\n",
      "RangeIndex: 3839 entries, 0 to 3838\n",
      "Data columns (total 5 columns):\n",
      " #   Column  Non-Null Count  Dtype  \n",
      "---  ------  --------------  -----  \n",
      " 0   a       3839 non-null   float64\n",
      " 1   b       3839 non-null   float64\n",
      " 2   c       3839 non-null   float64\n",
      " 3   d       3839 non-null   float64\n",
      " 4   class   3071 non-null   float64\n",
      "dtypes: float64(5)\n",
      "memory usage: 150.1 KB\n",
      "None\n",
      "a          0\n",
      "b          0\n",
      "c          0\n",
      "d          0\n",
      "class    768\n",
      "dtype: int64\n",
      "(3839, 5)\n"
     ]
    }
   ],
   "source": [
    "print(data.info())\n",
    "print(data.isnull().sum())\n",
    "print(data.shape)"
   ]
  },
  {
   "cell_type": "markdown",
   "metadata": {},
   "source": [
    "Предоставлены данные в формате csv, таблица размером 3839 строк и 5 столбцов.\n",
    "Один столбец - это признак-результат (класс), бинарная переменная (0 или 1), и 4 столбца - это признаки-факторы (a, b, c, d). \n",
    "Все признаки даны в формате float64 (т.е. число с плавающей точкой).\n",
    "У признаков-факторов нет ни одного пропущенного значения, у признака-результата пропущено 768 значений. При разбиении выборки на тренинговую и тестовую строки с пустыми значениями класса попадут в тестовую выборку, а остальные - в трениговую."
   ]
  },
  {
   "cell_type": "code",
   "execution_count": 5,
   "metadata": {},
   "outputs": [
    {
     "name": "stdout",
     "output_type": "stream",
     "text": [
      "1.0    2026\n",
      "0.0    1045\n",
      "Name: class, dtype: int64\n",
      "[ 1.  0. nan]\n",
      "AxesSubplot(0.125,0.125;0.775x0.755)\n"
     ]
    },
    {
     "data": {
      "image/png": "[encoded data removed]",
      "text/plain": [
       "<Figure size 432x288 with 1 Axes>"
      ]
     },
     "metadata": {
      "needs_background": "light"
     },
     "output_type": "display_data"
    }
   ],
   "source": [
    "print(data['class'].value_counts())\n",
    "print(data['class'].unique())\n",
    "print(data['class'].hist())"
   ]
  },
  {
   "cell_type": "markdown",
   "metadata": {},
   "source": [
    "Анализ признака-результата показал, что данные в 2026 случаев принимают значение 1, и в 1045 - значение 0. Можно говорить о некоторой разбалансировке классов, т.к. их число отличается в 2 раза. Тем не менее, сам по себе факт наличия более 1000 единиц наблюдения в самом маленьком классе говорит о достаточном наборе данных для обучения модели машинного обучения. "
   ]
  },
  {
   "cell_type": "markdown",
   "metadata": {},
   "source": [
    "### Анализ признаков-факторов\n",
    "Анализ данных описательной статистики признаков a, b,c, d говорит о следующем: \n",
    "- форма распределения визуально напоминает плосковершинное распределение;\n",
    "- данные лежат в диапазоне близком к (-1,1) при этом среднее значение находится посередение, принимая значение близкое к 0;\n",
    "- медиана не равна среднему арифметическому значению, а это говорит о том, что распределение не является нормальным;\n",
    "- СКО,  очевидно означает, что по правилу 3 сигм распределение не является нормальным;\n",
    "- асимметрия близка к 0, что говорит о практически симметричности вариационного ряда (т.е. варианты, равноудалённые от среднего арифметического значения, имеют одинаковую частоту),\n",
    "- эксцесс, характеризующий крутизну распределения, меньше  0, что говорит о том, что распределение не является нормальным, а является о плосковершиным. "
   ]
  },
  {
   "cell_type": "markdown",
   "metadata": {},
   "source": [
    "#### Анализ признака \"а\""
   ]
  },
  {
   "cell_type": "code",
   "execution_count": 6,
   "metadata": {},
   "outputs": [
    {
     "name": "stdout",
     "output_type": "stream",
     "text": [
      "Асимметрия: 0.017741923391943276\n",
      "Эксцесс: -1.0060542627802453\n"
     ]
    },
    {
     "data": {
      "text/plain": [
       "count    3839.000000\n",
       "mean        0.000237\n",
       "std         0.492286\n",
       "min        -0.995371\n",
       "25%        -0.394078\n",
       "50%        -0.008509\n",
       "75%         0.399061\n",
       "max         0.995987\n",
       "Name: a, dtype: float64"
      ]
     },
     "execution_count": 6,
     "metadata": {},
     "output_type": "execute_result"
    }
   ],
   "source": [
    "skew_a=(data['a'].skew())\n",
    "kurt_a=(data['a'].kurt())\n",
    "print('Асимметрия: {}\\nЭксцесс:'.format(skew_a), (kurt_a))\n",
    "data['a'].describe()"
   ]
  },
  {
   "cell_type": "code",
   "execution_count": 7,
   "metadata": {},
   "outputs": [
    {
     "data": {
      "image/png": "[encoded data removed]",
      "text/plain": [
       "<Figure size 432x288 with 1 Axes>"
      ]
     },
     "metadata": {
      "needs_background": "light"
     },
     "output_type": "display_data"
    }
   ],
   "source": [
    "data.a.hist();"
   ]
  },
  {
   "cell_type": "code",
   "execution_count": 8,
   "metadata": {},
   "outputs": [
    {
     "data": {
      "image/png": "[encoded data removed]",
      "text/plain": [
       "<Figure size 432x288 with 1 Axes>"
      ]
     },
     "metadata": {
      "needs_background": "light"
     },
     "output_type": "display_data"
    }
   ],
   "source": [
    "sns.boxplot(data['a']);"
   ]
  },
  {
   "cell_type": "markdown",
   "metadata": {},
   "source": [
    "#### Анализ признака \"b\""
   ]
  },
  {
   "cell_type": "code",
   "execution_count": 9,
   "metadata": {},
   "outputs": [
    {
     "name": "stdout",
     "output_type": "stream",
     "text": [
      "Асимметрия: 0.03388651418045496\n",
      "Эксцесс: -0.991404923144477\n"
     ]
    },
    {
     "data": {
      "text/plain": [
       "count    3839.000000\n",
       "mean       -0.001918\n",
       "std         0.493000\n",
       "min        -0.996342\n",
       "25%        -0.395845\n",
       "50%        -0.010900\n",
       "75%         0.395606\n",
       "max         0.993865\n",
       "Name: b, dtype: float64"
      ]
     },
     "execution_count": 9,
     "metadata": {},
     "output_type": "execute_result"
    }
   ],
   "source": [
    "skew_b=(data['b'].skew())\n",
    "kurt_b=(data['b'].kurt())\n",
    "print('Асимметрия: {}\\nЭксцесс:'.format(skew_b), (kurt_b))\n",
    "\n",
    "data['b'].describe()"
   ]
  },
  {
   "cell_type": "code",
   "execution_count": 10,
   "metadata": {},
   "outputs": [
    {
     "data": {
      "image/png": "[encoded data removed]",
      "text/plain": [
       "<Figure size 432x288 with 1 Axes>"
      ]
     },
     "metadata": {
      "needs_background": "light"
     },
     "output_type": "display_data"
    }
   ],
   "source": [
    "data.b.hist();"
   ]
  },
  {
   "cell_type": "code",
   "execution_count": 11,
   "metadata": {},
   "outputs": [
    {
     "data": {
      "image/png": "[encoded data removed]",
      "text/plain": [
       "<Figure size 432x288 with 1 Axes>"
      ]
     },
     "metadata": {
      "needs_background": "light"
     },
     "output_type": "display_data"
    }
   ],
   "source": [
    "sns.boxplot(data['b']);"
   ]
  },
  {
   "cell_type": "markdown",
   "metadata": {},
   "source": [
    "#### Анализ признака \"с\""
   ]
  },
  {
   "cell_type": "code",
   "execution_count": 12,
   "metadata": {},
   "outputs": [
    {
     "name": "stdout",
     "output_type": "stream",
     "text": [
      "Асимметрия: 0.03388651418045496\n",
      "Эксцесс: -0.991404923144477\n"
     ]
    },
    {
     "data": {
      "text/plain": [
       "count    3839.000000\n",
       "mean       -0.005020\n",
       "std         0.489641\n",
       "min        -0.996055\n",
       "25%        -0.395307\n",
       "50%        -0.015388\n",
       "75%         0.382006\n",
       "max         0.988428\n",
       "Name: c, dtype: float64"
      ]
     },
     "execution_count": 12,
     "metadata": {},
     "output_type": "execute_result"
    }
   ],
   "source": [
    "skew_a=(data['b'].skew())\n",
    "kurt_a=(data['b'].kurt())\n",
    "print('Асимметрия: {}\\nЭксцесс:'.format(skew_b), (kurt_b))\n",
    "data['c'].describe()"
   ]
  },
  {
   "cell_type": "code",
   "execution_count": 13,
   "metadata": {},
   "outputs": [
    {
     "data": {
      "image/png": "[encoded data removed]",
      "text/plain": [
       "<Figure size 432x288 with 1 Axes>"
      ]
     },
     "metadata": {
      "needs_background": "light"
     },
     "output_type": "display_data"
    }
   ],
   "source": [
    "data.c.hist();"
   ]
  },
  {
   "cell_type": "code",
   "execution_count": 45,
   "metadata": {},
   "outputs": [
    {
     "data": {
      "image/png": "[encoded data removed]",
      "text/plain": [
       "<Figure size 432x288 with 1 Axes>"
      ]
     },
     "metadata": {},
     "output_type": "display_data"
    }
   ],
   "source": [
    "sns.boxplot(data['c']);"
   ]
  },
  {
   "cell_type": "markdown",
   "metadata": {},
   "source": [
    "#### Анализ признака \"d\""
   ]
  },
  {
   "cell_type": "code",
   "execution_count": 15,
   "metadata": {},
   "outputs": [
    {
     "name": "stdout",
     "output_type": "stream",
     "text": [
      "Асимметрия: -0.019303363029502998\n",
      "Эксцесс: -1.0400403983618247\n"
     ]
    },
    {
     "data": {
      "text/plain": [
       "count    3839.000000\n",
       "mean        0.017286\n",
       "std         0.504631\n",
       "min        -0.998084\n",
       "25%        -0.386948\n",
       "50%         0.015544\n",
       "75%         0.436341\n",
       "max         0.997183\n",
       "Name: d, dtype: float64"
      ]
     },
     "execution_count": 15,
     "metadata": {},
     "output_type": "execute_result"
    }
   ],
   "source": [
    "skew_d=(data['d'].skew())\n",
    "kurt_d=(data['d'].kurt())\n",
    "print('Асимметрия: {}\\nЭксцесс:'.format(skew_d), (kurt_d))\n",
    "data['d'].describe()"
   ]
  },
  {
   "cell_type": "code",
   "execution_count": 16,
   "metadata": {},
   "outputs": [
    {
     "data": {
      "image/png": "[encoded data removed]",
      "text/plain": [
       "<Figure size 432x288 with 1 Axes>"
      ]
     },
     "metadata": {
      "needs_background": "light"
     },
     "output_type": "display_data"
    }
   ],
   "source": [
    "data['d'].hist();"
   ]
  },
  {
   "cell_type": "code",
   "execution_count": 17,
   "metadata": {},
   "outputs": [
    {
     "data": {
      "image/png": "[encoded data removed]",
      "text/plain": [
       "<Figure size 432x288 with 1 Axes>"
      ]
     },
     "metadata": {
      "needs_background": "light"
     },
     "output_type": "display_data"
    }
   ],
   "source": [
    "sns.boxplot(data['d']);"
   ]
  },
  {
   "cell_type": "markdown",
   "metadata": {},
   "source": [
    "### Формирование набора данных для подачи в модели\n",
    "#### Признаки test, train, x, y, x_test"
   ]
  },
  {
   "cell_type": "markdown",
   "metadata": {},
   "source": [
    "Как показал анализ признаков-факторов выше, они уже очищены, предобработаны, стандартизированы, поэтому повторно их стандартизировать не требуется. "
   ]
  },
  {
   "cell_type": "code",
   "execution_count": 18,
   "metadata": {},
   "outputs": [],
   "source": [
    "test=data[data['class'].isna()]\n",
    "train=data.drop(test.index)\n",
    "y=train['class']\n",
    "x=train.drop(['class'], axis = 1) \n",
    "x_test=test.drop(['class'], axis = 1) "
   ]
  },
  {
   "cell_type": "code",
   "execution_count": 19,
   "metadata": {},
   "outputs": [
    {
     "data": {
      "text/plain": [
       "<matplotlib.axes._subplots.AxesSubplot at 0x237feb71ee0>"
      ]
     },
     "execution_count": 19,
     "metadata": {},
     "output_type": "execute_result"
    },
    {
     "data": {
      "image/png": "[encoded data removed]",
      "text/plain": [
       "<Figure size 864x864 with 2 Axes>"
      ]
     },
     "metadata": {},
     "output_type": "display_data"
    }
   ],
   "source": [
    "sns.set(font_scale=1)\n",
    "plt.subplots(figsize=(12, 12))\n",
    "sns.heatmap(train.corr(), square=True,\n",
    "              annot=True, fmt=\".2f\", linewidths=0.1, cmap=\"RdBu\")"
   ]
  },
  {
   "cell_type": "markdown",
   "metadata": {},
   "source": [
    "Корреляционная матрица показала отсутствие линейной связи между признаками-факторами, поэотму мы не будем исключать из анализа никакие переменные. "
   ]
  },
  {
   "cell_type": "markdown",
   "metadata": {},
   "source": [
    "#### Создание полиномиальных переменных\n",
    "\n",
    "Создаём признаки-факторы,  полином 2 степени от имеющихся данных"
   ]
  },
  {
   "cell_type": "code",
   "execution_count": 20,
   "metadata": {},
   "outputs": [
    {
     "name": "stdout",
     "output_type": "stream",
     "text": [
      "(3071, 14)\n"
     ]
    }
   ],
   "source": [
    "poly = PolynomialFeatures(degree=2)\n",
    "x_poly = poly.fit_transform(x)[:,1:]\n",
    "x_poly = pd.DataFrame(x_poly)\n",
    "print(x_poly.shape)\n"
   ]
  },
  {
   "cell_type": "code",
   "execution_count": 21,
   "metadata": {},
   "outputs": [
    {
     "name": "stdout",
     "output_type": "stream",
     "text": [
      "(768, 14)\n"
     ]
    }
   ],
   "source": [
    "x_test_poly = poly.fit_transform(x_test)[:,1:]\n",
    "x_test_poly = pd.DataFrame(x_test_poly)\n",
    "print(x_test_poly.shape)\n"
   ]
  },
  {
   "cell_type": "code",
   "execution_count": 22,
   "metadata": {},
   "outputs": [
    {
     "data": {
      "image/png": "[encoded data removed]",
      "text/plain": [
       "<Figure size 864x864 with 2 Axes>"
      ]
     },
     "metadata": {},
     "output_type": "display_data"
    }
   ],
   "source": [
    "sns.set(font_scale=1)\n",
    "plt.subplots(figsize=(12, 12))\n",
    "sns.heatmap(pd.concat([x_poly, y], axis=1).corr(), square=True,\n",
    "              annot=True, fmt=\".2f\", linewidths=0.1, cmap=\"RdBu\");"
   ]
  },
  {
   "cell_type": "markdown",
   "metadata": {},
   "source": [
    "Корреляционная матрица показала слабую линейную связь между полиномиальными признаками-факторами, поэотму мы не будем исключать из анализа никакие переменные. \n",
    "\n",
    "Разделим получившиеся данные на обучающую и тестовую выборки в соотношении 80:20."
   ]
  },
  {
   "cell_type": "code",
   "execution_count": 23,
   "metadata": {
    "scrolled": true
   },
   "outputs": [
    {
     "name": "stdout",
     "output_type": "stream",
     "text": [
      "(2456, 4)\n",
      "(615, 4)\n",
      "(2456,)\n",
      "(615,)\n",
      "\n",
      "\n",
      "(2456, 14)\n",
      "(615, 14)\n",
      "(2456,)\n",
      "(615,)\n"
     ]
    }
   ],
   "source": [
    "# Разделим получившиеся данные на обучающую и тестовую выборки в соотношении 80:20.\n",
    "x_train, x_val, y_train, y_val = train_test_split(x, y, test_size=0.2, random_state=42)\n",
    "x_train_poly, x_val_poly, y_train_poly, y_val_poly = train_test_split(x_poly, y, test_size=0.2, random_state=42)\n",
    "\n",
    "print(x_train.shape)\n",
    "print(x_val.shape)\n",
    "print(y_train.shape)\n",
    "print(y_val.shape)\n",
    "print('\\n')\n",
    "print(x_train_poly.shape)\n",
    "print(x_val_poly.shape)\n",
    "print(y_train_poly.shape)\n",
    "print(y_val_poly.shape)"
   ]
  },
  {
   "cell_type": "markdown",
   "metadata": {},
   "source": [
    "## Обучение модели методом градиентного бустинга, подбор гиперпараметров"
   ]
  },
  {
   "cell_type": "markdown",
   "metadata": {},
   "source": [
    "### На полиномиальных признаках"
   ]
  },
  {
   "cell_type": "markdown",
   "metadata": {},
   "source": [
    "##### Лучшим решением оказалось обучение градиентного бустинга на  полиномиальных признаках\n",
    "#####  Precision : 0.908\n",
    "#####  Recall: 0.858\n",
    "#####  Accuracy (доля правильных ответов): 0.837\n",
    "Это довольно высокие значения с учётом того, что классы разбалансированы (разница между классами почти 2 раза). \n"
   ]
  },
  {
   "cell_type": "markdown",
   "metadata": {},
   "source": [
    "Обучим модель GradientBoostingClassifier (из библиотеки sklearn), используя параметры по умолчанию \n",
    "(learning_rate=0.1, n_estimators=100,max_depth=3, min_samples_split=2, min_samples_leaf=1, subsample=1, max_features=None).\n",
    "#Во всех методах, где присутствует случайность, укажем random_state=42.\n",
    "Это будет наш baseline. Укажем точность на тестовой выборке (параметр score)"
   ]
  },
  {
   "cell_type": "code",
   "execution_count": 24,
   "metadata": {},
   "outputs": [
    {
     "name": "stdout",
     "output_type": "stream",
     "text": [
      "score: 0.6650406504065041\n"
     ]
    }
   ],
   "source": [
    "clf_grad_poly = ensemble.GradientBoostingClassifier(random_state=42)\n",
    "clf_grad_poly.fit(x_train_poly, y_train_poly)\n",
    "print('score: {}'.format(clf_grad_poly.score(x_val_poly, y_val_poly)))"
   ]
  },
  {
   "cell_type": "code",
   "execution_count": 25,
   "metadata": {},
   "outputs": [
    {
     "name": "stdout",
     "output_type": "stream",
     "text": [
      "10\n"
     ]
    },
    {
     "data": {
      "image/png": "[encoded data removed]",
      "text/plain": [
       "<Figure size 432x288 with 1 Axes>"
      ]
     },
     "metadata": {},
     "output_type": "display_data"
    }
   ],
   "source": [
    "feature_importances_frame = pd.DataFrame(list(x_train_poly.columns),clf_grad_poly.feature_importances_).sort_index(ascending=False)\n",
    "print(feature_importances_frame.reset_index().iloc[2,1])\n",
    "feature_importances_frame.reset_index().set_index(0).iloc[:10].plot.barh();\n"
   ]
  },
  {
   "cell_type": "markdown",
   "metadata": {},
   "source": [
    "Теперь перейдем к подбору параметров в модели. Для этого в библиотеке scikit-learn есть метод GridSearchCV. \n",
    "Ему на вход подается модель, список параметров и способ оценивания. \n",
    "При запуске метода fit модель обучается со всеми возможными комбинациями параметров, лучшей комбинацией параметров становится та, при которой значение метрики максимально. Укажем в качестве estimator градиетный бустинг с параметрами \"по умолчанию\" и random_state=42. В параметре scoring укажем 'accuracy', n_jobs=-1, cv=5."
   ]
  },
  {
   "cell_type": "code",
   "execution_count": 26,
   "metadata": {},
   "outputs": [
    {
     "name": "stdout",
     "output_type": "stream",
     "text": [
      "Fitting 5 folds for each of 16 candidates, totalling 80 fits\n"
     ]
    },
    {
     "name": "stderr",
     "output_type": "stream",
     "text": [
      "[Parallel(n_jobs=-1)]: Using backend LokyBackend with 12 concurrent workers.\n",
      "[Parallel(n_jobs=-1)]: Done  48 tasks      | elapsed:  1.1min\n",
      "[Parallel(n_jobs=-1)]: Done  74 out of  80 | elapsed:  1.8min remaining:    8.6s\n",
      "[Parallel(n_jobs=-1)]: Done  80 out of  80 | elapsed:  1.9min finished\n"
     ]
    },
    {
     "name": "stdout",
     "output_type": "stream",
     "text": [
      "0.8373983739837398\n",
      "0.8171899061149471\n",
      "{'learning_rate': 1, 'n_estimators': 1750}\n",
      "Wall time: 2min 8s\n"
     ]
    }
   ],
   "source": [
    "%%time\n",
    "\n",
    "param_grid = {\n",
    "    'learning_rate': [0.001, 0.01, 0.1, 1], \n",
    "    'n_estimators' : [500, 1000,  1500, 1750]\n",
    "}\n",
    "\n",
    "clf_grad_poly = ensemble.GradientBoostingClassifier(random_state=42)\n",
    "grid_search_GB = GridSearchCV(\n",
    "    clf_grad_poly,\n",
    "    param_grid=param_grid,\n",
    "    scoring='accuracy',\n",
    "    cv=5,\n",
    "    n_jobs=-1,\n",
    "    verbose=5\n",
    ")\n",
    "grid_search_GB.fit(x_train_poly, y_train_poly)\n",
    "print(grid_search_GB.score(x_val_poly, y_val_poly))\n",
    "print(grid_search_GB.best_score_)\n",
    "print(grid_search_GB.best_params_)"
   ]
  },
  {
   "cell_type": "code",
   "execution_count": 27,
   "metadata": {},
   "outputs": [
    {
     "name": "stdout",
     "output_type": "stream",
     "text": [
      "Precision: 0.9077669902912622\n",
      "Recall: 0.8577981651376146\n",
      "Accuracy: 0.8373983739837398\n"
     ]
    }
   ],
   "source": [
    "best_model_gb=grid_search_GB.best_estimator_\n",
    "print('Precision: {}'.format(precision_score(grid_search_GB.predict(x_val_poly), y_val)))\n",
    "print('Recall: {}'.format(recall_score(grid_search_GB.predict(x_val_poly), y_val)))\n",
    "print('Accuracy: {}'.format(accuracy_score(grid_search_GB.predict(x_val_poly), y_val)))"
   ]
  },
  {
   "cell_type": "code",
   "execution_count": 28,
   "metadata": {},
   "outputs": [],
   "source": [
    "prediction=best_model_gb.predict(x_test_poly)\n",
    "answers=pd.DataFrame({'predict': prediction })\n",
    "answers.to_csv('Y_test.csv', index=False)"
   ]
  },
  {
   "cell_type": "code",
   "execution_count": null,
   "metadata": {},
   "outputs": [],
   "source": [
    "print(grid_search_GB.best_params_)\n",
    "print(grid_search_GB.best_estimator_)"
   ]
  },
  {
   "cell_type": "markdown",
   "metadata": {},
   "source": [
    "### На обычных признаках\n",
    "\n",
    "Обучим модель GradientBoostingClassifier (из библиотеки sklearn), используя параметры по умолчанию (learning_rate=0.1, n_estimators=100,max_depth=3, min_samples_split=2, min_samples_leaf=1, subsample=1, max_features=None).\n",
    "Во всех методах, где присутствует случайность, укажем random_state=42. Это будет наш baseline. Укажем точность на тестовой выборке (параметр score). "
   ]
  },
  {
   "cell_type": "code",
   "execution_count": 29,
   "metadata": {},
   "outputs": [
    {
     "name": "stdout",
     "output_type": "stream",
     "text": [
      "score: 0.6715447154471544\n"
     ]
    }
   ],
   "source": [
    "\n",
    "clf_gb = ensemble.GradientBoostingClassifier(random_state=42)\n",
    "clf_gb.fit(x_train, y_train)\n",
    "print('score: {}'.format(clf_gb.score(x_val, y_val)))"
   ]
  },
  {
   "cell_type": "code",
   "execution_count": 30,
   "metadata": {},
   "outputs": [
    {
     "name": "stdout",
     "output_type": "stream",
     "text": [
      "c\n"
     ]
    },
    {
     "data": {
      "image/png": "[encoded data removed]",
      "text/plain": [
       "<Figure size 432x288 with 1 Axes>"
      ]
     },
     "metadata": {},
     "output_type": "display_data"
    }
   ],
   "source": [
    "feature_importances_frame = pd.DataFrame(list(x_train.columns),clf_gb.feature_importances_).sort_index(ascending=False)\n",
    "print(feature_importances_frame.reset_index().iloc[2,1])\n",
    "feature_importances_frame.reset_index().set_index(0).iloc[:10].plot.barh();\n"
   ]
  },
  {
   "cell_type": "markdown",
   "metadata": {},
   "source": [
    "С методической точки зрения было бы правильным одновременно перебирать параметры, указав вместе с learning_rate=0.1, n_estimators=100 и max_depth, но попытка использовать такую комбинацию требует очень много ресурсов, которых не хватает даже в colab, поэтому было принято решение разделить процесс на 2 этапа."
   ]
  },
  {
   "cell_type": "code",
   "execution_count": 31,
   "metadata": {},
   "outputs": [
    {
     "name": "stdout",
     "output_type": "stream",
     "text": [
      "0.7138211382113822\n",
      "0.6608332091467555\n",
      "{'learning_rate': 1, 'n_estimators': 1750}\n"
     ]
    }
   ],
   "source": [
    "param_grid = {\n",
    "    'learning_rate':[0.00001, 0.0001, 0.001, 0.01, 0.1, 1], \n",
    "    'n_estimators':[100, 250, 500, 750, 1000, 1250, 1500, 1750]\n",
    "}\n",
    "\n",
    "clf_gb = ensemble.GradientBoostingClassifier(random_state=42)\n",
    "grid_search_GB_lin = GridSearchCV(clf_gb, param_grid=param_grid, scoring='accuracy', cv=5, n_jobs=-1)\n",
    "grid_search_GB_lin.fit(x_train, y_train)\n",
    "print(grid_search_GB_lin.score(x_val, y_val))\n",
    "print(grid_search_GB_lin.best_score_)\n",
    "print(grid_search_GB_lin.best_params_)"
   ]
  },
  {
   "cell_type": "markdown",
   "metadata": {},
   "source": [
    "Теперь воспользуемся GridSearchCV для подбора максимальной глубины (max_depth). В качестве estimator используем градиентный \n",
    "бустинг с ранее подобранными параметрами и random_state=42. Переберём все значения max_depth от 5 до 15 включительно. \n",
    "В ответ запишем значение параметра, при котором точность максимальна."
   ]
  },
  {
   "cell_type": "code",
   "execution_count": 33,
   "metadata": {},
   "outputs": [
    {
     "name": "stdout",
     "output_type": "stream",
     "text": [
      "0.6715447154471544\n",
      "0.6417018528637426\n",
      "{'max_depth': 5}\n",
      "Wall time: 13min 7s\n"
     ]
    }
   ],
   "source": [
    "%%time\n",
    "\n",
    "param_grid = {'max_depth':range(5,16)}\n",
    "\n",
    "clf_gb = ensemble.GradientBoostingClassifier(random_state=42,learning_rate= 1,n_estimators= 1750)\n",
    "grid_search_GB_lin = GridSearchCV(clf_gb, param_grid=param_grid, scoring='accuracy', cv=5)\n",
    "grid_search_GB_lin.fit(x_train, y_train)\n",
    "print(grid_search_GB_lin.score(x_val, y_val))\n",
    "print(grid_search_GB_lin.best_score_)\n",
    "print(grid_search_GB_lin.best_params_)"
   ]
  },
  {
   "cell_type": "code",
   "execution_count": 34,
   "metadata": {},
   "outputs": [
    {
     "name": "stdout",
     "output_type": "stream",
     "text": [
      "Precision: 0.8155339805825242\n",
      "Recall: 0.7272727272727273\n",
      "Accuracy: 0.6715447154471544\n"
     ]
    }
   ],
   "source": [
    "print('Precision: {}'.format(precision_score(grid_search_GB_lin.predict(x_val), y_val)))\n",
    "print('Recall: {}'.format(recall_score(grid_search_GB_lin.predict(x_val), y_val)))\n",
    "print('Accuracy: {}'.format(accuracy_score(grid_search_GB_lin.predict(x_val), y_val)))"
   ]
  },
  {
   "cell_type": "markdown",
   "metadata": {},
   "source": [
    "## Обучение модели методом случайного леса. Подбор гиперпараметров\n",
    "### На обычных признаках"
   ]
  },
  {
   "cell_type": "markdown",
   "metadata": {},
   "source": [
    "Обучим модель RandomForestClassifier (из библиотеки sklearn), используя параметры по умолчанию \n",
    "(learning_rate=0.1, n_estimators=100,max_depth=3, min_samples_split=2, min_samples_leaf=1, subsample=1, max_features=None).\n",
    "Во всех методах, где присутствует случайность, укажем random_state=42.\n",
    "Это будет наш baseline. Укажем точность на тестовой выборке (параметр score)"
   ]
  },
  {
   "cell_type": "code",
   "execution_count": 35,
   "metadata": {},
   "outputs": [
    {
     "name": "stdout",
     "output_type": "stream",
     "text": [
      "score: 0.6487804878048781\n"
     ]
    }
   ],
   "source": [
    "clf_RFC = RandomForestClassifier()\n",
    "\n",
    "clf_RFC.fit(x_train, y_train)\n",
    "print('score: {}'.format(clf_RFC.score(x_val, y_val)))"
   ]
  },
  {
   "cell_type": "markdown",
   "metadata": {},
   "source": [
    "Теперь перейдем к подбору параметров в модели. Для этого в библиотеке scikit-learn есть метод GridSearchCV. \n",
    "Ему на вход подается модель, список параметров и способ оценивания. \n",
    "При запуске метода fit модель обучается со всеми возможными комбинациями параметров,  лучшей комбинацией параметров становится та, при которой значение метрики максимально.\n",
    "Укажем в качестве estimator случайный лес с параметрами \"по умолчанию\" и random_state=42. \n",
    "В параметре scoring укажем 'accuracy', n_jobs=-1, cv=5."
   ]
  },
  {
   "cell_type": "code",
   "execution_count": 36,
   "metadata": {},
   "outputs": [
    {
     "name": "stdout",
     "output_type": "stream",
     "text": [
      "0.6682926829268293\n",
      "0.6579810574073154\n",
      "{'max_depth': 9, 'min_samples_leaf': 7, 'min_samples_split': 2, 'n_estimators': 100}\n",
      "Wall time: 11min 54s\n"
     ]
    }
   ],
   "source": [
    "%%time\n",
    "\n",
    "param_grid = { 'n_estimators': range (100, 700, 100),\n",
    "              'max_depth': range (3, 13, 2),\n",
    "              'min_samples_leaf': range (1,8),\n",
    "              'min_samples_split': range (2,10,2)} \n",
    "clf_RFC = ensemble.RandomForestClassifier(random_state=42)\n",
    "grid_search_RF = GridSearchCV(clf_RFC, param_grid=param_grid, scoring='accuracy', cv=5, n_jobs=-1)\n",
    "grid_search_RF.fit(x_train, y_train)\n",
    "print(grid_search_RF.score(x_val, y_val))\n",
    "print(grid_search_RF.best_score_)\n",
    "print(grid_search_RF.best_params_)"
   ]
  },
  {
   "cell_type": "code",
   "execution_count": 37,
   "metadata": {},
   "outputs": [
    {
     "name": "stdout",
     "output_type": "stream",
     "text": [
      "Precision: 0.9927184466019418\n",
      "Recall: 0.6704918032786885\n",
      "Accuracy: 0.6682926829268293\n"
     ]
    }
   ],
   "source": [
    "print('Precision: {}'.format(precision_score(grid_search_RF.predict(x_val), y_val)))\n",
    "print('Recall: {}'.format(recall_score(grid_search_RF.predict(x_val), y_val)))\n",
    "print('Accuracy: {}'.format(accuracy_score(grid_search_RF.predict(x_val), y_val)))"
   ]
  },
  {
   "cell_type": "markdown",
   "metadata": {},
   "source": [
    "### На полиномиальных признаках."
   ]
  },
  {
   "cell_type": "markdown",
   "metadata": {},
   "source": [
    "Обучим модель RandomForestClassifier (из библиотеки sklearn), используя параметры по умолчанию \n",
    "(learning_rate=0.1, n_estimators=100,max_depth=3, min_samples_split=2, min_samples_leaf=1, subsample=1, max_features=None).\n",
    "Во всех методах, где присутствует случайность, укажем random_state=42.\n",
    "Это будет наш baseline. Укажем точность на тестовой выборке (параметр score)"
   ]
  },
  {
   "cell_type": "code",
   "execution_count": 38,
   "metadata": {},
   "outputs": [
    {
     "name": "stdout",
     "output_type": "stream",
     "text": [
      "score: 0.6682926829268293\n"
     ]
    }
   ],
   "source": [
    "\n",
    "clf_RFC_poly = RandomForestClassifier()\n",
    "\n",
    "clf_RFC_poly.fit(x_train_poly, y_train_poly)\n",
    "print('score: {}'.format(clf_RFC_poly.score(x_val_poly, y_val_poly)))"
   ]
  },
  {
   "cell_type": "markdown",
   "metadata": {},
   "source": [
    "Теперь перейдем к подбору параметров в модели. Для этого в библиотеке scikit-learn есть метод GridSearchCV. \n",
    "Ему на вход подается модель, список параметров и способ оценивания. При запуске метода fit модель обучается со всеми возможными комбинациями параметров, лучшей комбинацией параметров становится та, при которой значение метрики максимально.\n",
    "Укажем в качестве estimator случайный лес с параметрами \"по умолчанию\" и random_state=42. \n",
    "В параметре scoring укажем 'accuracy', n_jobs=-1, cv=5."
   ]
  },
  {
   "cell_type": "code",
   "execution_count": 39,
   "metadata": {},
   "outputs": [
    {
     "name": "stdout",
     "output_type": "stream",
     "text": [
      "0.6715447154471544\n",
      "0.659199741691918\n",
      "{'max_depth': 9, 'min_samples_leaf': 1, 'min_samples_split': 8, 'n_estimators': 100}\n",
      "Wall time: 14min 29s\n"
     ]
    }
   ],
   "source": [
    "%%time\n",
    "\n",
    "param_grid = { 'n_estimators': range (100, 700, 100),\n",
    "              'max_depth': range (3, 13, 2),\n",
    "              'min_samples_leaf': range (1,8),\n",
    "              'min_samples_split': range (2,10,2)} \n",
    "clf_RFC_poly = ensemble.RandomForestClassifier(random_state=42)\n",
    "grid_search_RFC_poly = GridSearchCV(clf_RFC_poly, param_grid=param_grid, scoring='accuracy', cv=5, n_jobs=-1)\n",
    "grid_search_RFC_poly.fit(x_train_poly, y_train_poly)\n",
    "print(grid_search_RFC_poly.score(x_val_poly, y_val_poly))\n",
    "print(grid_search_RFC_poly.best_score_)\n",
    "print(grid_search_RFC_poly.best_params_)"
   ]
  },
  {
   "cell_type": "code",
   "execution_count": 40,
   "metadata": {},
   "outputs": [
    {
     "data": {
      "text/plain": [
       "{'max_depth': 9,\n",
       " 'min_samples_leaf': 1,\n",
       " 'min_samples_split': 8,\n",
       " 'n_estimators': 100}"
      ]
     },
     "execution_count": 40,
     "metadata": {},
     "output_type": "execute_result"
    }
   ],
   "source": [
    "grid_search_RFC_poly.best_params_"
   ]
  },
  {
   "cell_type": "code",
   "execution_count": 44,
   "metadata": {},
   "outputs": [
    {
     "name": "stdout",
     "output_type": "stream",
     "text": [
      "Precision: 1.0\n",
      "Recall: 0.6710097719869706\n",
      "Accuracy: 0.6715447154471544\n"
     ]
    }
   ],
   "source": [
    "print('Precision: {}'.format(precision_score(grid_search_RFC_poly.predict(x_val_poly), y_val)))\n",
    "print('Recall: {}'.format(recall_score(grid_search_RFC_poly.predict(x_val_poly), y_val)))\n",
    "print('Accuracy: {}'.format(accuracy_score(grid_search_RFC_poly.predict(x_val_poly), y_val)))"
   ]
  },
  {
   "cell_type": "markdown",
   "metadata": {},
   "source": [
    "## Обучение модели логистической регрессией. Подбор гиперпараметров\n"
   ]
  },
  {
   "cell_type": "code",
   "execution_count": 42,
   "metadata": {},
   "outputs": [
    {
     "name": "stdout",
     "output_type": "stream",
     "text": [
      "tuned hpyerparameters :(best parameters)  {'C': 0.001, 'penalty': 'l2'}\n",
      "accuracy : 0.6571660859465738\n",
      "score 0.6699186991869919\n",
      "Wall time: 691 ms\n"
     ]
    }
   ],
   "source": [
    "%%time\n",
    "grid={\"C\":np.logspace(-3,3,7), \"penalty\":[\"l1\",\"l2\"]}# l1 lasso l2 ridge\n",
    "logreg=LogisticRegression(solver='liblinear')\n",
    "logreg_cv=GridSearchCV(logreg,grid,cv=10)\n",
    "logreg_cv.fit(x_train,y_train)\n",
    "\n",
    "print(\"tuned hpyerparameters :(best parameters) \",logreg_cv.best_params_)\n",
    "print(\"accuracy :\",logreg_cv.best_score_)\n",
    "\n",
    "logreg2=LogisticRegression(C=1,penalty=\"l2\", solver='liblinear')\n",
    "logreg2.fit(x_train,y_train)\n",
    "print(\"score\",logreg2.score(x_val,y_val))\n"
   ]
  },
  {
   "cell_type": "code",
   "execution_count": 43,
   "metadata": {},
   "outputs": [
    {
     "name": "stdout",
     "output_type": "stream",
     "text": [
      "Precision: 1.0\n",
      "Recall: 0.6699186991869919\n",
      "Accuracy: 0.6699186991869919\n"
     ]
    }
   ],
   "source": [
    "print('Precision: {}'.format(precision_score(logreg_cv.predict(x_val), y_val)))\n",
    "print('Recall: {}'.format(recall_score(logreg_cv.predict(x_val), y_val)))\n",
    "print('Accuracy: {}'.format(accuracy_score(logreg_cv.predict(x_val), y_val)))"
   ]
  },
  {
   "cell_type": "code",
   "execution_count": null,
   "metadata": {},
   "outputs": [],
   "source": []
  }
 ],
 "metadata": {
  "kernelspec": {
   "display_name": "Python 3",
   "language": "python",
   "name": "python3"
  },
  "language_info": {
   "codemirror_mode": {
    "name": "ipython",
    "version": 3
   },
   "file_extension": ".py",
   "mimetype": "text/x-python",
   "name": "python",
   "nbconvert_exporter": "python",
   "pygments_lexer": "ipython3",
   "version": "3.8.3"
  }
 },
 "nbformat": 4,
 "nbformat_minor": 4
}
